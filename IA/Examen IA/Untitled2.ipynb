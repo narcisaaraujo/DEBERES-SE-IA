{
 "cells": [
  {
   "cell_type": "code",
   "execution_count": 1,
   "metadata": {},
   "outputs": [
    {
     "name": "stdout",
     "output_type": "stream",
     "text": [
      "{\n",
      "  \"id\": 1345246512243216384,\n",
      "  \"id_str\": \"1345246512243216384\",\n",
      "  \"name\": \"emily\",\n",
      "  \"screen_name\": \"emily77985270\",\n",
      "  \"location\": \"\",\n",
      "  \"profile_location\": null,\n",
      "  \"description\": \"\",\n",
      "  \"url\": null,\n",
      "  \"entities\": {\n",
      "    \"description\": {\n",
      "      \"urls\": []\n",
      "    }\n",
      "  },\n",
      "  \"protected\": false,\n",
      "  \"followers_count\": 0,\n",
      "  \"friends_count\": 0,\n",
      "  \"listed_count\": 0,\n",
      "  \"created_at\": \"Sat Jan 02 05:52:34 +0000 2021\",\n",
      "  \"favourites_count\": 0,\n",
      "  \"utc_offset\": null,\n",
      "  \"time_zone\": null,\n",
      "  \"geo_enabled\": false,\n",
      "  \"verified\": false,\n",
      "  \"statuses_count\": 0,\n",
      "  \"lang\": null,\n",
      "  \"contributors_enabled\": false,\n",
      "  \"is_translator\": false,\n",
      "  \"is_translation_enabled\": false,\n",
      "  \"profile_background_color\": \"F5F8FA\",\n",
      "  \"profile_background_image_url\": null,\n",
      "  \"profile_background_image_url_https\": null,\n",
      "  \"profile_background_tile\": false,\n",
      "  \"profile_image_url\": \"http://abs.twimg.com/sticky/default_profile_images/default_profile_normal.png\",\n",
      "  \"profile_image_url_https\": \"https://abs.twimg.com/sticky/default_profile_images/default_profile_normal.png\",\n",
      "  \"profile_link_color\": \"1DA1F2\",\n",
      "  \"profile_sidebar_border_color\": \"C0DEED\",\n",
      "  \"profile_sidebar_fill_color\": \"DDEEF6\",\n",
      "  \"profile_text_color\": \"333333\",\n",
      "  \"profile_use_background_image\": true,\n",
      "  \"has_extended_profile\": true,\n",
      "  \"default_profile\": true,\n",
      "  \"default_profile_image\": true,\n",
      "  \"following\": false,\n",
      "  \"follow_request_sent\": false,\n",
      "  \"notifications\": false,\n",
      "  \"translator_type\": \"none\",\n",
      "  \"suspended\": false,\n",
      "  \"needs_phone_verification\": false\n",
      "}\n"
     ]
    }
   ],
   "source": [
    "import tweepy\n",
    "import json, csv, sys\n",
    "\n",
    "consumer_key = \"1mHPGnmuZIhr4ri5vzcYY2qel\"\n",
    "consumer_secret = \"GjaortlQeAggtPYASDLhEf9Y4d9zShf2sRlOXGIBc2NJrd2u0n\"\n",
    "access_token = \"1345246512243216384-Rt4evusX2NgNW1VSR5uzQyJluMD30x\"\n",
    "access_token_secret = \"RjeQc0sscThwUSfU3s5dRWakWaFgpefWHyqyUYswiDh7b\"\n",
    "\n",
    "auth = tweepy.OAuthHandler(consumer_key, consumer_secret)\n",
    "\n",
    "auth.set_access_token(access_token, access_token_secret)\n",
    "\n",
    "api = tweepy.API(auth, wait_on_rate_limit=True, wait_on_rate_limit_notify=True)\n",
    "\n",
    "#Obtner datos de mi usuario\n",
    "data = api.me()\n",
    "\n",
    "print(json.dumps(data._json, indent=2))"
   ]
  },
  {
   "cell_type": "code",
   "execution_count": 2,
   "metadata": {},
   "outputs": [
    {
     "name": "stdout",
     "output_type": "stream",
     "text": [
      "{\n",
      "  \"id\": 235712666,\n",
      "  \"id_str\": \"235712666\",\n",
      "  \"name\": \"Andr\\u00e9s Arauz\",\n",
      "  \"screen_name\": \"ecuarauz\",\n",
      "  \"location\": \"Ecuador\",\n",
      "  \"profile_location\": null,\n",
      "  \"description\": \"Patriota. Dem\\u00f3crata. Progresista  Candidato a la Presidencia del Ecuador  Nunca me niego a un ceviche Jipijapa \\ud83c\\uddea\\ud83c\\udde8\",\n",
      "  \"url\": \"https://t.co/hEh2LTQbwx\",\n",
      "  \"entities\": {\n",
      "    \"url\": {\n",
      "      \"urls\": [\n",
      "        {\n",
      "          \"url\": \"https://t.co/hEh2LTQbwx\",\n",
      "          \"expanded_url\": \"https://andresarauz.ec\",\n",
      "          \"display_url\": \"andresarauz.ec\",\n",
      "          \"indices\": [\n",
      "            0,\n",
      "            23\n",
      "          ]\n",
      "        }\n",
      "      ]\n",
      "    },\n",
      "    \"description\": {\n",
      "      \"urls\": []\n",
      "    }\n",
      "  },\n",
      "  \"protected\": false,\n",
      "  \"followers_count\": 56925,\n",
      "  \"friends_count\": 2513,\n",
      "  \"listed_count\": 125,\n",
      "  \"created_at\": \"Sat Jan 08 22:33:43 +0000 2011\",\n",
      "  \"favourites_count\": 4067,\n",
      "  \"utc_offset\": null,\n",
      "  \"time_zone\": null,\n",
      "  \"geo_enabled\": false,\n",
      "  \"verified\": true,\n",
      "  \"statuses_count\": 14656,\n",
      "  \"lang\": null,\n",
      "  \"status\": {\n",
      "    \"created_at\": \"Sat Jan 02 03:45:10 +0000 2021\",\n",
      "    \"id\": 1345214527210708992,\n",
      "    \"id_str\": \"1345214527210708992\",\n",
      "    \"text\": \"Mucho cuidado con unos fakes que circulan por ah\\u00ed. \\nMientras nosotros estamos planteando propuestas para cuidar la\\u2026 https://t.co/XERQiKdyKQ\",\n",
      "    \"truncated\": true,\n",
      "    \"entities\": {\n",
      "      \"hashtags\": [],\n",
      "      \"symbols\": [],\n",
      "      \"user_mentions\": [],\n",
      "      \"urls\": [\n",
      "        {\n",
      "          \"url\": \"https://t.co/XERQiKdyKQ\",\n",
      "          \"expanded_url\": \"https://twitter.com/i/web/status/1345214527210708992\",\n",
      "          \"display_url\": \"twitter.com/i/web/status/1\\u2026\",\n",
      "          \"indices\": [\n",
      "            116,\n",
      "            139\n",
      "          ]\n",
      "        }\n",
      "      ]\n",
      "    },\n",
      "    \"source\": \"<a href=\\\"https://mobile.twitter.com\\\" rel=\\\"nofollow\\\">Twitter Web App</a>\",\n",
      "    \"in_reply_to_status_id\": null,\n",
      "    \"in_reply_to_status_id_str\": null,\n",
      "    \"in_reply_to_user_id\": null,\n",
      "    \"in_reply_to_user_id_str\": null,\n",
      "    \"in_reply_to_screen_name\": null,\n",
      "    \"geo\": null,\n",
      "    \"coordinates\": null,\n",
      "    \"place\": null,\n",
      "    \"contributors\": null,\n",
      "    \"is_quote_status\": false,\n",
      "    \"retweet_count\": 327,\n",
      "    \"favorite_count\": 752,\n",
      "    \"favorited\": false,\n",
      "    \"retweeted\": false,\n",
      "    \"lang\": \"es\"\n",
      "  },\n",
      "  \"contributors_enabled\": false,\n",
      "  \"is_translator\": false,\n",
      "  \"is_translation_enabled\": false,\n",
      "  \"profile_background_color\": \"000000\",\n",
      "  \"profile_background_image_url\": \"http://abs.twimg.com/images/themes/theme5/bg.gif\",\n",
      "  \"profile_background_image_url_https\": \"https://abs.twimg.com/images/themes/theme5/bg.gif\",\n",
      "  \"profile_background_tile\": false,\n",
      "  \"profile_image_url\": \"http://pbs.twimg.com/profile_images/1311149963057999873/REnQf__g_normal.jpg\",\n",
      "  \"profile_image_url_https\": \"https://pbs.twimg.com/profile_images/1311149963057999873/REnQf__g_normal.jpg\",\n",
      "  \"profile_banner_url\": \"https://pbs.twimg.com/profile_banners/235712666/1601686608\",\n",
      "  \"profile_link_color\": \"4A913C\",\n",
      "  \"profile_sidebar_border_color\": \"000000\",\n",
      "  \"profile_sidebar_fill_color\": \"000000\",\n",
      "  \"profile_text_color\": \"000000\",\n",
      "  \"profile_use_background_image\": false,\n",
      "  \"has_extended_profile\": false,\n",
      "  \"default_profile\": false,\n",
      "  \"default_profile_image\": false,\n",
      "  \"following\": false,\n",
      "  \"follow_request_sent\": false,\n",
      "  \"notifications\": false,\n",
      "  \"translator_type\": \"none\"\n",
      "}\n"
     ]
    }
   ],
   "source": [
    "#para obtener datos de otro usuario\n",
    "\n",
    "data = api.get_user(\"ecuarauz\")\n",
    "print(json.dumps(data._json, indent=2))"
   ]
  },
  {
   "cell_type": "code",
   "execution_count": 3,
   "metadata": {},
   "outputs": [
    {
     "data": {
      "text/plain": [
       "'datosjson = \"\"\\n\\nfor user in data:\\n    print(json.dumps(user._json, indent=2))\\n    #datosjson = datosjson + (json.dumps(user._json, indent=2))\\n'"
      ]
     },
     "execution_count": 3,
     "metadata": {},
     "output_type": "execute_result"
    }
   ],
   "source": [
    "# Para mostrar los seguidores\n",
    "#sleep_on_rate_limit=False\n",
    "#data = api.followers(screen_name=\"ecuarauz\")\n",
    "\n",
    "'''datosjson = \"\"\n",
    "\n",
    "for user in data:\n",
    "    print(json.dumps(user._json, indent=2))\n",
    "    #datosjson = datosjson + (json.dumps(user._json, indent=2))\n",
    "'''"
   ]
  },
  {
   "cell_type": "code",
   "execution_count": 4,
   "metadata": {},
   "outputs": [
    {
     "name": "stdout",
     "output_type": "stream",
     "text": [
      "20\n"
     ]
    }
   ],
   "source": [
    "#Numero de usuarios mostrados por la api\n",
    "data = api.followers(screen_name=\"ecuarauz\")\n",
    "print(len(data))"
   ]
  },
  {
   "cell_type": "code",
   "execution_count": 5,
   "metadata": {},
   "outputs": [
    {
     "data": {
      "text/plain": [
       "'\\nsleep_on_rate_limit=False\\ndatos = \"\"\\n\\nfor user in tweepy.Cursor(api.followers, screen_name=\"ecuarauz\").items(50):\\n    #print(json.dumps(user._json, indent=2))\\n    datos =datos + json.dumps(user._json, indent=2)\\n\\n'"
      ]
     },
     "execution_count": 5,
     "metadata": {},
     "output_type": "execute_result"
    }
   ],
   "source": [
    "#Para ver los seguidores Pasamos un metodo, no llamamos ningun metodo, el creeen_name=\"\"<- es los datos que van dentro del metodo puesto.\n",
    "\n",
    "'''\n",
    "sleep_on_rate_limit=False\n",
    "datos = \"\"\n",
    "\n",
    "for user in tweepy.Cursor(api.followers, screen_name=\"ecuarauz\").items(50):\n",
    "    #print(json.dumps(user._json, indent=2))\n",
    "    datos =datos + json.dumps(user._json, indent=2)\n",
    "\n",
    "'''\n",
    "\n",
    "\n",
    "    #datos = json.dumps(user._json, indent=2)\n",
    "#print(datos)\n",
    "#output = csv.writer(sys.stdout)\n",
    "#output.writerow(data[0].keys())\n",
    "\n",
    "#for row in data:\n",
    " #   output.writerow(row.values())\n",
    "\n",
    "#print(len(tweepy.Cursor(api.followers, screen_name=\"ecuarauz\").items(100)))"
   ]
  },
  {
   "cell_type": "code",
   "execution_count": 6,
   "metadata": {},
   "outputs": [],
   "source": [
    "#Para ver amigos del usuario.\n",
    "followers = tweepy.Cursor(api.friends, screen_name=\"ecuarauz\").items(150)"
   ]
  },
  {
   "cell_type": "code",
   "execution_count": 7,
   "metadata": {},
   "outputs": [
    {
     "data": {
      "text/plain": [
       "'\\nc=0\\nfor tweet in tweepy.Cursor(api.search, q=\"andres arauz\", tweet_mode = \"extended\").items(10):\\n    #Para mostrar todos los datos\\n    print(\"*************************\"+str(c))\\n    item = json.dumps(tweet._json, indent=3)\\n    print(item)\\n    #print(type(tweet))\\n    #item = json.loads(json.dumps(tweet._json, indent=3))\\n    #print(item[\\'id\\'])\\n    c=c+1\\n\\n'"
      ]
     },
     "execution_count": 7,
     "metadata": {},
     "output_type": "execute_result"
    }
   ],
   "source": [
    "'''\n",
    "c=0\n",
    "for tweet in tweepy.Cursor(api.search, q=\"andres arauz\", tweet_mode = \"extended\").items(10):\n",
    "    #Para mostrar todos los datos\n",
    "    print(\"*************************\"+str(c))\n",
    "    item = json.dumps(tweet._json, indent=3)\n",
    "    print(item)\n",
    "    #print(type(tweet))\n",
    "    #item = json.loads(json.dumps(tweet._json, indent=3))\n",
    "    #print(item['id'])\n",
    "    c=c+1\n",
    "\n",
    "'''"
   ]
  },
  {
   "cell_type": "markdown",
   "metadata": {},
   "source": [
    "#### Crear modelo de nodos para grafos."
   ]
  },
  {
   "cell_type": "code",
   "execution_count": 8,
   "metadata": {},
   "outputs": [],
   "source": [
    "from neomodel import (config, StructuredNode, StringProperty, IntegerProperty,\n",
    "    UniqueIdProperty, RelationshipTo, RelationshipFrom)\n",
    "\n",
    "config.DATABASE_URL = 'bolt://localhost:7687', 'proyecto', 'proyecto'\n",
    "\n",
    "class Candidat(StructuredNode):\n",
    "    nameCan = StringProperty(unique_index=True)\n",
    "    partido = StringProperty(unique_index=True)\n",
    "    \n",
    "class Twee(StructuredNode):\n",
    "    idtweet = UniqueIdProperty()\n",
    "    date = StringProperty(unique_index=False)\n",
    "    messaje = StringProperty(unique_index=False)\n",
    "    device = StringProperty(unique_index=False)\n",
    "    usuario = RelationshipTo('Usuario' , 'TWEET_DE_USUARIO')\n",
    "    candidato = RelationshipTo('Candidat' , 'TWEET_SOBRE_CANDIDATO')\n",
    "\n",
    "class Usuario(StructuredNode):\n",
    "    userid = UniqueIdProperty()\n",
    "    name = StringProperty(unique_index=True)\n",
    "    description = StringProperty(unique_index=False)\n",
    "    address = StringProperty(unique_index=False)\n",
    "    followers = IntegerProperty(index=True, default=0)\n",
    "    friends = IntegerProperty(index=True, default=0)\n",
    "    twets = RelationshipFrom('Twee','TWEET_DE_USUARIO')"
   ]
  },
  {
   "cell_type": "markdown",
   "metadata": {},
   "source": [
    "- Consumo de api de tweeter para descargar tweets y guardar en la base de datos neo4j."
   ]
  },
  {
   "cell_type": "code",
   "execution_count": 9,
   "metadata": {},
   "outputs": [
    {
     "ename": "AttributeError",
     "evalue": "'tuple' object has no attribute 'decode'",
     "output_type": "error",
     "traceback": [
      "\u001b[1;31m---------------------------------------------------------------------------\u001b[0m",
      "\u001b[1;31mAttributeError\u001b[0m                            Traceback (most recent call last)",
      "\u001b[1;32m<ipython-input-9-0c8088c8a385>\u001b[0m in \u001b[0;36m<module>\u001b[1;34m\u001b[0m\n\u001b[0;32m      1\u001b[0m \u001b[1;31m#q <- es la busqueda por texto el tweet que se desee\u001b[0m\u001b[1;33m\u001b[0m\u001b[1;33m\u001b[0m\u001b[1;33m\u001b[0m\u001b[0m\n\u001b[0;32m      2\u001b[0m \u001b[0mc\u001b[0m\u001b[1;33m=\u001b[0m\u001b[1;36m0\u001b[0m\u001b[1;33m\u001b[0m\u001b[1;33m\u001b[0m\u001b[0m\n\u001b[1;32m----> 3\u001b[1;33m \u001b[0mcand\u001b[0m \u001b[1;33m=\u001b[0m \u001b[0mCandidat\u001b[0m\u001b[1;33m(\u001b[0m\u001b[0mnameCand\u001b[0m\u001b[1;33m=\u001b[0m\u001b[1;34m\"Andres Arauz\"\u001b[0m\u001b[1;33m,\u001b[0m \u001b[0mpartido\u001b[0m\u001b[1;33m=\u001b[0m\u001b[1;34m\"UNES\"\u001b[0m\u001b[1;33m)\u001b[0m\u001b[1;33m.\u001b[0m\u001b[0msave\u001b[0m\u001b[1;33m(\u001b[0m\u001b[1;33m)\u001b[0m\u001b[1;33m\u001b[0m\u001b[1;33m\u001b[0m\u001b[0m\n\u001b[0m\u001b[0;32m      4\u001b[0m \u001b[1;32mfor\u001b[0m \u001b[0mtweet\u001b[0m \u001b[1;32min\u001b[0m \u001b[0mtweepy\u001b[0m\u001b[1;33m.\u001b[0m\u001b[0mCursor\u001b[0m\u001b[1;33m(\u001b[0m\u001b[0mapi\u001b[0m\u001b[1;33m.\u001b[0m\u001b[0msearch\u001b[0m\u001b[1;33m,\u001b[0m \u001b[0mq\u001b[0m\u001b[1;33m=\u001b[0m\u001b[1;34m\"andres arauz\"\u001b[0m\u001b[1;33m,\u001b[0m \u001b[0mtweet_mode\u001b[0m \u001b[1;33m=\u001b[0m \u001b[1;34m\"extended\"\u001b[0m\u001b[1;33m)\u001b[0m\u001b[1;33m.\u001b[0m\u001b[0mitems\u001b[0m\u001b[1;33m(\u001b[0m\u001b[1;36m5000\u001b[0m\u001b[1;33m)\u001b[0m\u001b[1;33m:\u001b[0m\u001b[1;33m\u001b[0m\u001b[1;33m\u001b[0m\u001b[0m\n\u001b[0;32m      5\u001b[0m     \u001b[1;34m'''Para mostrar todos los datos'''\u001b[0m\u001b[1;33m\u001b[0m\u001b[1;33m\u001b[0m\u001b[0m\n",
      "\u001b[1;32m~\\anaconda3\\lib\\site-packages\\neomodel\\hooks.py\u001b[0m in \u001b[0;36mhooked\u001b[1;34m(self)\u001b[0m\n\u001b[0;32m     12\u001b[0m         \u001b[0mfn_name\u001b[0m \u001b[1;33m=\u001b[0m \u001b[0mgetattr\u001b[0m\u001b[1;33m(\u001b[0m\u001b[0mfn\u001b[0m\u001b[1;33m,\u001b[0m \u001b[1;34m'func_name'\u001b[0m\u001b[1;33m,\u001b[0m \u001b[0mfn\u001b[0m\u001b[1;33m.\u001b[0m\u001b[0m__name__\u001b[0m\u001b[1;33m)\u001b[0m\u001b[1;33m\u001b[0m\u001b[1;33m\u001b[0m\u001b[0m\n\u001b[0;32m     13\u001b[0m         \u001b[0m_exec_hook\u001b[0m\u001b[1;33m(\u001b[0m\u001b[1;34m'pre_'\u001b[0m \u001b[1;33m+\u001b[0m \u001b[0mfn_name\u001b[0m\u001b[1;33m,\u001b[0m \u001b[0mself\u001b[0m\u001b[1;33m)\u001b[0m\u001b[1;33m\u001b[0m\u001b[1;33m\u001b[0m\u001b[0m\n\u001b[1;32m---> 14\u001b[1;33m         \u001b[0mval\u001b[0m \u001b[1;33m=\u001b[0m \u001b[0mfn\u001b[0m\u001b[1;33m(\u001b[0m\u001b[0mself\u001b[0m\u001b[1;33m)\u001b[0m\u001b[1;33m\u001b[0m\u001b[1;33m\u001b[0m\u001b[0m\n\u001b[0m\u001b[0;32m     15\u001b[0m         \u001b[0m_exec_hook\u001b[0m\u001b[1;33m(\u001b[0m\u001b[1;34m'post_'\u001b[0m \u001b[1;33m+\u001b[0m \u001b[0mfn_name\u001b[0m\u001b[1;33m,\u001b[0m \u001b[0mself\u001b[0m\u001b[1;33m)\u001b[0m\u001b[1;33m\u001b[0m\u001b[1;33m\u001b[0m\u001b[0m\n\u001b[0;32m     16\u001b[0m         \u001b[1;32mreturn\u001b[0m \u001b[0mval\u001b[0m\u001b[1;33m\u001b[0m\u001b[1;33m\u001b[0m\u001b[0m\n",
      "\u001b[1;32m~\\anaconda3\\lib\\site-packages\\neomodel\\core.py\u001b[0m in \u001b[0;36msave\u001b[1;34m(self)\u001b[0m\n\u001b[0;32m    559\u001b[0m                 self.__class__.__name__))\n\u001b[0;32m    560\u001b[0m         \u001b[1;32melse\u001b[0m\u001b[1;33m:\u001b[0m  \u001b[1;31m# create\u001b[0m\u001b[1;33m\u001b[0m\u001b[1;33m\u001b[0m\u001b[0m\n\u001b[1;32m--> 561\u001b[1;33m             \u001b[0mself\u001b[0m\u001b[1;33m.\u001b[0m\u001b[0mid\u001b[0m \u001b[1;33m=\u001b[0m \u001b[0mself\u001b[0m\u001b[1;33m.\u001b[0m\u001b[0mcreate\u001b[0m\u001b[1;33m(\u001b[0m\u001b[0mself\u001b[0m\u001b[1;33m.\u001b[0m\u001b[0m__properties__\u001b[0m\u001b[1;33m)\u001b[0m\u001b[1;33m[\u001b[0m\u001b[1;36m0\u001b[0m\u001b[1;33m]\u001b[0m\u001b[1;33m.\u001b[0m\u001b[0mid\u001b[0m\u001b[1;33m\u001b[0m\u001b[1;33m\u001b[0m\u001b[0m\n\u001b[0m\u001b[0;32m    562\u001b[0m         \u001b[1;32mreturn\u001b[0m \u001b[0mself\u001b[0m\u001b[1;33m\u001b[0m\u001b[1;33m\u001b[0m\u001b[0m\n",
      "\u001b[1;32m~\\anaconda3\\lib\\site-packages\\neomodel\\core.py\u001b[0m in \u001b[0;36mcreate\u001b[1;34m(cls, *props, **kwargs)\u001b[0m\n\u001b[0;32m    356\u001b[0m         \u001b[0mresults\u001b[0m \u001b[1;33m=\u001b[0m \u001b[1;33m[\u001b[0m\u001b[1;33m]\u001b[0m\u001b[1;33m\u001b[0m\u001b[1;33m\u001b[0m\u001b[0m\n\u001b[0;32m    357\u001b[0m         \u001b[1;32mfor\u001b[0m \u001b[0mitem\u001b[0m \u001b[1;32min\u001b[0m \u001b[1;33m[\u001b[0m\u001b[0mcls\u001b[0m\u001b[1;33m.\u001b[0m\u001b[0mdeflate\u001b[0m\u001b[1;33m(\u001b[0m\u001b[0mp\u001b[0m\u001b[1;33m,\u001b[0m \u001b[0mobj\u001b[0m\u001b[1;33m=\u001b[0m\u001b[0m_UnsavedNode\u001b[0m\u001b[1;33m(\u001b[0m\u001b[1;33m)\u001b[0m\u001b[1;33m,\u001b[0m \u001b[0mskip_empty\u001b[0m\u001b[1;33m=\u001b[0m\u001b[1;32mTrue\u001b[0m\u001b[1;33m)\u001b[0m \u001b[1;32mfor\u001b[0m \u001b[0mp\u001b[0m \u001b[1;32min\u001b[0m \u001b[0mprops\u001b[0m\u001b[1;33m]\u001b[0m\u001b[1;33m:\u001b[0m\u001b[1;33m\u001b[0m\u001b[1;33m\u001b[0m\u001b[0m\n\u001b[1;32m--> 358\u001b[1;33m             \u001b[0mnode\u001b[0m\u001b[1;33m,\u001b[0m \u001b[0m_\u001b[0m \u001b[1;33m=\u001b[0m \u001b[0mdb\u001b[0m\u001b[1;33m.\u001b[0m\u001b[0mcypher_query\u001b[0m\u001b[1;33m(\u001b[0m\u001b[0mquery\u001b[0m\u001b[1;33m,\u001b[0m \u001b[1;33m{\u001b[0m\u001b[1;34m'create_params'\u001b[0m\u001b[1;33m:\u001b[0m \u001b[0mitem\u001b[0m\u001b[1;33m}\u001b[0m\u001b[1;33m)\u001b[0m\u001b[1;33m\u001b[0m\u001b[1;33m\u001b[0m\u001b[0m\n\u001b[0m\u001b[0;32m    359\u001b[0m             \u001b[0mresults\u001b[0m\u001b[1;33m.\u001b[0m\u001b[0mextend\u001b[0m\u001b[1;33m(\u001b[0m\u001b[0mnode\u001b[0m\u001b[1;33m[\u001b[0m\u001b[1;36m0\u001b[0m\u001b[1;33m]\u001b[0m\u001b[1;33m)\u001b[0m\u001b[1;33m\u001b[0m\u001b[1;33m\u001b[0m\u001b[0m\n\u001b[0;32m    360\u001b[0m \u001b[1;33m\u001b[0m\u001b[0m\n",
      "\u001b[1;32m~\\anaconda3\\lib\\site-packages\\neomodel\\util.py\u001b[0m in \u001b[0;36mwrapper\u001b[1;34m(self, *args, **kwargs)\u001b[0m\n\u001b[0;32m     32\u001b[0m \u001b[1;33m\u001b[0m\u001b[0m\n\u001b[0;32m     33\u001b[0m         \u001b[1;32mif\u001b[0m \u001b[1;32mnot\u001b[0m \u001b[0m_db\u001b[0m\u001b[1;33m.\u001b[0m\u001b[0murl\u001b[0m\u001b[1;33m:\u001b[0m\u001b[1;33m\u001b[0m\u001b[1;33m\u001b[0m\u001b[0m\n\u001b[1;32m---> 34\u001b[1;33m             \u001b[0m_db\u001b[0m\u001b[1;33m.\u001b[0m\u001b[0mset_connection\u001b[0m\u001b[1;33m(\u001b[0m\u001b[0mconfig\u001b[0m\u001b[1;33m.\u001b[0m\u001b[0mDATABASE_URL\u001b[0m\u001b[1;33m)\u001b[0m\u001b[1;33m\u001b[0m\u001b[1;33m\u001b[0m\u001b[0m\n\u001b[0m\u001b[0;32m     35\u001b[0m         \u001b[1;32mreturn\u001b[0m \u001b[0mfunc\u001b[0m\u001b[1;33m(\u001b[0m\u001b[0mself\u001b[0m\u001b[1;33m,\u001b[0m \u001b[1;33m*\u001b[0m\u001b[0margs\u001b[0m\u001b[1;33m,\u001b[0m \u001b[1;33m**\u001b[0m\u001b[0mkwargs\u001b[0m\u001b[1;33m)\u001b[0m\u001b[1;33m\u001b[0m\u001b[1;33m\u001b[0m\u001b[0m\n\u001b[0;32m     36\u001b[0m \u001b[1;33m\u001b[0m\u001b[0m\n",
      "\u001b[1;32m~\\anaconda3\\lib\\site-packages\\neomodel\\util.py\u001b[0m in \u001b[0;36mset_connection\u001b[1;34m(self, url)\u001b[0m\n\u001b[0;32m     88\u001b[0m         \u001b[0mSets\u001b[0m \u001b[0mthe\u001b[0m \u001b[0mconnection\u001b[0m \u001b[0mURL\u001b[0m \u001b[0mto\u001b[0m \u001b[0mthe\u001b[0m \u001b[0maddress\u001b[0m \u001b[0ma\u001b[0m \u001b[0mNeo4j\u001b[0m \u001b[0mserver\u001b[0m \u001b[1;32mis\u001b[0m \u001b[0mset\u001b[0m \u001b[0mup\u001b[0m \u001b[0mat\u001b[0m\u001b[1;33m\u001b[0m\u001b[1;33m\u001b[0m\u001b[0m\n\u001b[0;32m     89\u001b[0m         \"\"\"\n\u001b[1;32m---> 90\u001b[1;33m         \u001b[0mu\u001b[0m \u001b[1;33m=\u001b[0m \u001b[0murlparse\u001b[0m\u001b[1;33m(\u001b[0m\u001b[0murl\u001b[0m\u001b[1;33m)\u001b[0m\u001b[1;33m\u001b[0m\u001b[1;33m\u001b[0m\u001b[0m\n\u001b[0m\u001b[0;32m     91\u001b[0m \u001b[1;33m\u001b[0m\u001b[0m\n\u001b[0;32m     92\u001b[0m         \u001b[1;32mif\u001b[0m \u001b[0mu\u001b[0m\u001b[1;33m.\u001b[0m\u001b[0mnetloc\u001b[0m\u001b[1;33m.\u001b[0m\u001b[0mfind\u001b[0m\u001b[1;33m(\u001b[0m\u001b[1;34m'@'\u001b[0m\u001b[1;33m)\u001b[0m \u001b[1;33m>\u001b[0m \u001b[1;33m-\u001b[0m\u001b[1;36m1\u001b[0m \u001b[1;32mand\u001b[0m \u001b[1;33m(\u001b[0m\u001b[0mu\u001b[0m\u001b[1;33m.\u001b[0m\u001b[0mscheme\u001b[0m \u001b[1;33m==\u001b[0m \u001b[1;34m'bolt'\u001b[0m \u001b[1;32mor\u001b[0m \u001b[0mu\u001b[0m\u001b[1;33m.\u001b[0m\u001b[0mscheme\u001b[0m \u001b[1;33m==\u001b[0m \u001b[1;34m'bolt+routing'\u001b[0m \u001b[1;32mor\u001b[0m \u001b[0mu\u001b[0m\u001b[1;33m.\u001b[0m\u001b[0mscheme\u001b[0m \u001b[1;33m==\u001b[0m \u001b[1;34m'neo4j'\u001b[0m\u001b[1;33m)\u001b[0m\u001b[1;33m:\u001b[0m\u001b[1;33m\u001b[0m\u001b[1;33m\u001b[0m\u001b[0m\n",
      "\u001b[1;32m~\\anaconda3\\lib\\urllib\\parse.py\u001b[0m in \u001b[0;36murlparse\u001b[1;34m(url, scheme, allow_fragments)\u001b[0m\n\u001b[0;32m    365\u001b[0m     \u001b[0mNote\u001b[0m \u001b[0mthat\u001b[0m \u001b[0mwe\u001b[0m \u001b[0mdon\u001b[0m\u001b[0;31m'\u001b[0m\u001b[0mt\u001b[0m \u001b[1;32mbreak\u001b[0m \u001b[0mthe\u001b[0m \u001b[0mcomponents\u001b[0m \u001b[0mup\u001b[0m \u001b[1;32min\u001b[0m \u001b[0msmaller\u001b[0m \u001b[0mbits\u001b[0m\u001b[1;33m\u001b[0m\u001b[1;33m\u001b[0m\u001b[0m\n\u001b[0;32m    366\u001b[0m     (e.g. netloc is a single string) and we don't expand % escapes.\"\"\"\n\u001b[1;32m--> 367\u001b[1;33m     \u001b[0murl\u001b[0m\u001b[1;33m,\u001b[0m \u001b[0mscheme\u001b[0m\u001b[1;33m,\u001b[0m \u001b[0m_coerce_result\u001b[0m \u001b[1;33m=\u001b[0m \u001b[0m_coerce_args\u001b[0m\u001b[1;33m(\u001b[0m\u001b[0murl\u001b[0m\u001b[1;33m,\u001b[0m \u001b[0mscheme\u001b[0m\u001b[1;33m)\u001b[0m\u001b[1;33m\u001b[0m\u001b[1;33m\u001b[0m\u001b[0m\n\u001b[0m\u001b[0;32m    368\u001b[0m     \u001b[0msplitresult\u001b[0m \u001b[1;33m=\u001b[0m \u001b[0murlsplit\u001b[0m\u001b[1;33m(\u001b[0m\u001b[0murl\u001b[0m\u001b[1;33m,\u001b[0m \u001b[0mscheme\u001b[0m\u001b[1;33m,\u001b[0m \u001b[0mallow_fragments\u001b[0m\u001b[1;33m)\u001b[0m\u001b[1;33m\u001b[0m\u001b[1;33m\u001b[0m\u001b[0m\n\u001b[0;32m    369\u001b[0m     \u001b[0mscheme\u001b[0m\u001b[1;33m,\u001b[0m \u001b[0mnetloc\u001b[0m\u001b[1;33m,\u001b[0m \u001b[0murl\u001b[0m\u001b[1;33m,\u001b[0m \u001b[0mquery\u001b[0m\u001b[1;33m,\u001b[0m \u001b[0mfragment\u001b[0m \u001b[1;33m=\u001b[0m \u001b[0msplitresult\u001b[0m\u001b[1;33m\u001b[0m\u001b[1;33m\u001b[0m\u001b[0m\n",
      "\u001b[1;32m~\\anaconda3\\lib\\urllib\\parse.py\u001b[0m in \u001b[0;36m_coerce_args\u001b[1;34m(*args)\u001b[0m\n\u001b[0;32m    121\u001b[0m     \u001b[1;32mif\u001b[0m \u001b[0mstr_input\u001b[0m\u001b[1;33m:\u001b[0m\u001b[1;33m\u001b[0m\u001b[1;33m\u001b[0m\u001b[0m\n\u001b[0;32m    122\u001b[0m         \u001b[1;32mreturn\u001b[0m \u001b[0margs\u001b[0m \u001b[1;33m+\u001b[0m \u001b[1;33m(\u001b[0m\u001b[0m_noop\u001b[0m\u001b[1;33m,\u001b[0m\u001b[1;33m)\u001b[0m\u001b[1;33m\u001b[0m\u001b[1;33m\u001b[0m\u001b[0m\n\u001b[1;32m--> 123\u001b[1;33m     \u001b[1;32mreturn\u001b[0m \u001b[0m_decode_args\u001b[0m\u001b[1;33m(\u001b[0m\u001b[0margs\u001b[0m\u001b[1;33m)\u001b[0m \u001b[1;33m+\u001b[0m \u001b[1;33m(\u001b[0m\u001b[0m_encode_result\u001b[0m\u001b[1;33m,\u001b[0m\u001b[1;33m)\u001b[0m\u001b[1;33m\u001b[0m\u001b[1;33m\u001b[0m\u001b[0m\n\u001b[0m\u001b[0;32m    124\u001b[0m \u001b[1;33m\u001b[0m\u001b[0m\n\u001b[0;32m    125\u001b[0m \u001b[1;31m# Result objects are more helpful than simple tuples\u001b[0m\u001b[1;33m\u001b[0m\u001b[1;33m\u001b[0m\u001b[1;33m\u001b[0m\u001b[0m\n",
      "\u001b[1;32m~\\anaconda3\\lib\\urllib\\parse.py\u001b[0m in \u001b[0;36m_decode_args\u001b[1;34m(args, encoding, errors)\u001b[0m\n\u001b[0;32m    105\u001b[0m def _decode_args(args, encoding=_implicit_encoding,\n\u001b[0;32m    106\u001b[0m                        errors=_implicit_errors):\n\u001b[1;32m--> 107\u001b[1;33m     \u001b[1;32mreturn\u001b[0m \u001b[0mtuple\u001b[0m\u001b[1;33m(\u001b[0m\u001b[0mx\u001b[0m\u001b[1;33m.\u001b[0m\u001b[0mdecode\u001b[0m\u001b[1;33m(\u001b[0m\u001b[0mencoding\u001b[0m\u001b[1;33m,\u001b[0m \u001b[0merrors\u001b[0m\u001b[1;33m)\u001b[0m \u001b[1;32mif\u001b[0m \u001b[0mx\u001b[0m \u001b[1;32melse\u001b[0m \u001b[1;34m''\u001b[0m \u001b[1;32mfor\u001b[0m \u001b[0mx\u001b[0m \u001b[1;32min\u001b[0m \u001b[0margs\u001b[0m\u001b[1;33m)\u001b[0m\u001b[1;33m\u001b[0m\u001b[1;33m\u001b[0m\u001b[0m\n\u001b[0m\u001b[0;32m    108\u001b[0m \u001b[1;33m\u001b[0m\u001b[0m\n\u001b[0;32m    109\u001b[0m \u001b[1;32mdef\u001b[0m \u001b[0m_coerce_args\u001b[0m\u001b[1;33m(\u001b[0m\u001b[1;33m*\u001b[0m\u001b[0margs\u001b[0m\u001b[1;33m)\u001b[0m\u001b[1;33m:\u001b[0m\u001b[1;33m\u001b[0m\u001b[1;33m\u001b[0m\u001b[0m\n",
      "\u001b[1;32m~\\anaconda3\\lib\\urllib\\parse.py\u001b[0m in \u001b[0;36m<genexpr>\u001b[1;34m(.0)\u001b[0m\n\u001b[0;32m    105\u001b[0m def _decode_args(args, encoding=_implicit_encoding,\n\u001b[0;32m    106\u001b[0m                        errors=_implicit_errors):\n\u001b[1;32m--> 107\u001b[1;33m     \u001b[1;32mreturn\u001b[0m \u001b[0mtuple\u001b[0m\u001b[1;33m(\u001b[0m\u001b[0mx\u001b[0m\u001b[1;33m.\u001b[0m\u001b[0mdecode\u001b[0m\u001b[1;33m(\u001b[0m\u001b[0mencoding\u001b[0m\u001b[1;33m,\u001b[0m \u001b[0merrors\u001b[0m\u001b[1;33m)\u001b[0m \u001b[1;32mif\u001b[0m \u001b[0mx\u001b[0m \u001b[1;32melse\u001b[0m \u001b[1;34m''\u001b[0m \u001b[1;32mfor\u001b[0m \u001b[0mx\u001b[0m \u001b[1;32min\u001b[0m \u001b[0margs\u001b[0m\u001b[1;33m)\u001b[0m\u001b[1;33m\u001b[0m\u001b[1;33m\u001b[0m\u001b[0m\n\u001b[0m\u001b[0;32m    108\u001b[0m \u001b[1;33m\u001b[0m\u001b[0m\n\u001b[0;32m    109\u001b[0m \u001b[1;32mdef\u001b[0m \u001b[0m_coerce_args\u001b[0m\u001b[1;33m(\u001b[0m\u001b[1;33m*\u001b[0m\u001b[0margs\u001b[0m\u001b[1;33m)\u001b[0m\u001b[1;33m:\u001b[0m\u001b[1;33m\u001b[0m\u001b[1;33m\u001b[0m\u001b[0m\n",
      "\u001b[1;31mAttributeError\u001b[0m: 'tuple' object has no attribute 'decode'"
     ]
    }
   ],
   "source": [
    "#q <- es la busqueda por texto el tweet que se desee\n",
    "c=0\n",
    "cand = Candidat(nameCand=\"Andres Arauz\", partido=\"UNES\").save()\n",
    "for tweet in tweepy.Cursor(api.search, q=\"andres arauz\", tweet_mode = \"extended\").items(5000):\n",
    "    '''Para mostrar todos los datos'''\n",
    "    print(\"*************************\"+str(c))\n",
    "    #print(type(tweet))\n",
    "    item = json.loads(json.dumps(tweet._json, indent=3))\n",
    "    '''Datos de twit'''\n",
    "    iditem = item['id']\n",
    "    fecha = item['created_at']\n",
    "    sms = item['full_text']\n",
    "    dipositivo = item['source'] \n",
    "    print(fecha)\n",
    "    print(iditem)\n",
    "    print(sms)\n",
    "    print(dipositivo)\n",
    "    \n",
    "    '''Datos de usuario'''\n",
    "    user = item['user']\n",
    "    \n",
    "    useid = user['id']\n",
    "    usename = user['name']\n",
    "    usedescription = user['description']\n",
    "    useaddress = user['location']\n",
    "    usefollowers = user['followers_count']\n",
    "    usefriends = user['friends_count']\n",
    "    print(useid)\n",
    "    print(usename)\n",
    "    print(usedescription)\n",
    "    print(useaddress)\n",
    "    print(usefollowers)\n",
    "    print(usefriends)\n",
    "    \n",
    "    tw = Twee(idTeet=iditem, date=fecha, messaje=sms,device=dipositivo).save()\n",
    "    us =  Usuario(userid=useid, name=usename, description=usedescription,address=useaddress,followers=usefollowers, friends=usefriends).save()\n",
    "    tw.usuario.connect(us)\n",
    "    tw.candidato.connect(cand)\n",
    "    \n",
    "    print(\"------------------------------------\")\n",
    "\n",
    "    c=c+1\n",
    "    \n",
    "    '''\n",
    "        Para mostrar solo el texto\n",
    "        print(tweet._json[\"full_text\"])\n",
    "    '''"
   ]
  },
  {
   "cell_type": "code",
   "execution_count": null,
   "metadata": {},
   "outputs": [],
   "source": []
  }
 ],
 "metadata": {
  "kernelspec": {
   "display_name": "Python 3",
   "language": "python",
   "name": "python3"
  },
  "language_info": {
   "codemirror_mode": {
    "name": "ipython",
    "version": 3
   },
   "file_extension": ".py",
   "mimetype": "text/x-python",
   "name": "python",
   "nbconvert_exporter": "python",
   "pygments_lexer": "ipython3",
   "version": "3.7.6"
  }
 },
 "nbformat": 4,
 "nbformat_minor": 4
}
