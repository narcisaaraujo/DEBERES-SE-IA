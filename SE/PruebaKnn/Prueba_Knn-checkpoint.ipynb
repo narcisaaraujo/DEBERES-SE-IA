{
 "cells": [
  {
   "cell_type": "markdown",
   "metadata": {},
   "source": [
    "# UNIVERSIDAD POLITECNICA SALESIANA\n",
    "\n",
    "\n",
    "\n",
    "## PRUEBA SE\n",
    "\n",
    "### Alumna: Narcisa Araujo\n",
    "\n",
    "\n",
    "\n"
   ]
  },
  {
   "cell_type": "markdown",
   "metadata": {},
   "source": [
    "## Enunciado:\n",
    "\n",
    "•\tDiseñe y desarrolle un algoritmo Knn en Neo4j para:\n",
    "◦\tFila A - 0: Usemos el ejemplo de conjunto de datos de Kaggle.com. Elegír el conjunto de datos del automóvil para este ejemplo y permite predecir el tipo de carro o automóvil, para ello el siguiente link de datos https://github.com/yfujieda/tech-cookbook/blob/master/python/knn-example2/data/car_dataset.csv [1]\n"
   ]
  },
  {
   "cell_type": "code",
   "execution_count": null,
   "metadata": {},
   "outputs": [],
   "source": []
  }
 ],
 "metadata": {
  "kernelspec": {
   "display_name": "Python 3",
   "language": "python",
   "name": "python3"
  },
  "language_info": {
   "codemirror_mode": {
    "name": "ipython",
    "version": 3
   },
   "file_extension": ".py",
   "mimetype": "text/x-python",
   "name": "python",
   "nbconvert_exporter": "python",
   "pygments_lexer": "ipython3",
   "version": "3.7.6"
  }
 },
 "nbformat": 4,
 "nbformat_minor": 4
}
