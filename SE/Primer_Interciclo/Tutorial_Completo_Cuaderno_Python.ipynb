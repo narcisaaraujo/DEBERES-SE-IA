{
 "cells": [
  {
   "cell_type": "markdown",
   "metadata": {},
   "source": [
    "# UNIVERSIDAD POLITECNICA SALESIANA"
   ]
  },
  {
   "cell_type": "markdown",
   "metadata": {},
   "source": [
    "## Narcisa Araujo"
   ]
  },
  {
   "cell_type": "code",
   "execution_count": 8,
   "metadata": {},
   "outputs": [
    {
     "name": "stdout",
     "output_type": "stream",
     "text": [
      "La intensidad es:\n",
      "0.43\n"
     ]
    }
   ],
   "source": [
    "#Ejercicio 1\n",
    "# Pasar a escala de grises el color codificado en los elementos de la lista `pixel`\n",
    "\n",
    "pixel= [0.6,0.3,0.4] # intensidades de cada canal. \n",
    "#El elemento 0 es el R, el 1 el G y el 2 el B\n",
    "\n",
    "# la intensidad en escala de grises es el promedio de la intensidad de cada canal R, G y B\n",
    "intensidad=0 # IMPLEMENTAR\n",
    "intensidad=(sum(pixel)/3)\n",
    "print(\"La intensidad es:\")\n",
    "print(\"{0:.2f}\".format(intensidad))"
   ]
  },
  {
   "cell_type": "code",
   "execution_count": 10,
   "metadata": {},
   "outputs": [
    {
     "name": "stdout",
     "output_type": "stream",
     "text": [
      "En blanco y negro el pixel sería: (0 -> negro, 1 -> blanco)\n",
      "0\n"
     ]
    }
   ],
   "source": [
    "#Ejercicio 2\n",
    "# Pasar a blanco y negro el valor de intensidad codificado en la variable intensidad\n",
    "\n",
    "\n",
    "# podemos considerar que un pixel se convierte en blanco si su intensidad en escala de grises es mayor a 0.5\n",
    "# y negro de lo contrario\n",
    "print(\"En blanco y negro el pixel sería: (0 -> negro, 1 -> blanco)\")\n",
    "\n",
    "# blanco=1\n",
    "# negro=0\n",
    "\n",
    "bw = 0 # IMPLEMENTAR\n",
    "if(intensidad > 0.5):\n",
    "    bw=1\n",
    "else:\n",
    "    bw\n",
    "print(bw)"
   ]
  },
  {
   "cell_type": "code",
   "execution_count": 12,
   "metadata": {},
   "outputs": [
    {
     "name": "stdout",
     "output_type": "stream",
     "text": [
      "El maximo es:\n",
      "53\n"
     ]
    }
   ],
   "source": [
    "#Ejercicio 3: Escribir un for para buscar el máximo de la lista e imprimirlo\n",
    "lista=[44,11,15,29,53,12,30]\n",
    "maximo=0\n",
    "# IMPLEMENTAR\n",
    "for i in lista:\n",
    "    if (i == max(lista)):\n",
    "        maximo=i\n",
    "    else:\n",
    "        None\n",
    "\n",
    "# debe imprimir 53\n",
    "print(\"-El maximo es:\")\n",
    "print(maximo)"
   ]
  },
  {
   "cell_type": "code",
   "execution_count": 27,
   "metadata": {},
   "outputs": [
    {
     "name": "stdout",
     "output_type": "stream",
     "text": [
      "La posición del minimo es:\n",
      "1\n"
     ]
    }
   ],
   "source": [
    "#Ejercicio 4: Escribir un for para buscar el minimo elemento de la lista e imprimir su _posición_\n",
    "\n",
    "lista=[44,11,15,29,53,12,30]\n",
    "posicion=0\n",
    "# IMPLEMENTAR\n",
    "for i, j in enumerate(lista):\n",
    "    if(j == min(lista)):\n",
    "        posicion=i\n",
    "    else:\n",
    "        None\n",
    "#debe imprimir 1\n",
    "print(\"La posición del minimo es:\")\n",
    "print(posicion)"
   ]
  },
  {
   "cell_type": "code",
   "execution_count": 28,
   "metadata": {},
   "outputs": [
    {
     "name": "stdout",
     "output_type": "stream",
     "text": [
      "[5, 7, 8, 10, 15, 35, 40, 65, 79, 100]\n"
     ]
    }
   ],
   "source": [
    "# Ejercicio 5 : Ordenar la lista de forma asendente \n",
    "#IMPLEMENTAR\n",
    "numeros = [10, 5, 15, 8, 100, 7, 40, 35, 65, 79]\n",
    "numeros.sort()\n",
    "print(numeros)"
   ]
  },
  {
   "cell_type": "code",
   "execution_count": 3,
   "metadata": {},
   "outputs": [
    {
     "data": {
      "text/plain": [
       "[0,\n",
       " 1,\n",
       " 1,\n",
       " 2,\n",
       " 3,\n",
       " 5,\n",
       " 8,\n",
       " 13,\n",
       " 21,\n",
       " 34,\n",
       " 55,\n",
       " 89,\n",
       " 144,\n",
       " 233,\n",
       " 377,\n",
       " 610,\n",
       " 987,\n",
       " 1597,\n",
       " 2584,\n",
       " 4181]"
      ]
     },
     "execution_count": 3,
     "metadata": {},
     "output_type": "execute_result"
    }
   ],
   "source": [
    "#Ejercicio 6\n",
    "\n",
    "# Crear una funcion en donde me permita enviar como parametro el numero de elementos y \n",
    "# devolver un listado de la serie fibonassi con el numero de elementos ingresado.\n",
    "\n",
    "#IMPLEMENTAR\n",
    "\n",
    "def fibonacci(num):\n",
    "    inicial_1 = 0\n",
    "    inicial_2 = 1\n",
    "    lista =[]\n",
    "    if(num > 0):  \n",
    "        lista.append(inicial_1)\n",
    "        lista.append(inicial_2)\n",
    "        while num > len(lista):\n",
    "            f = lista[-1]+lista[-2]\n",
    "            lista.append(f)\n",
    "        return lista\n",
    "    else:\n",
    "        print(\"Ingrese un numero mayor a 0\") \n",
    "     \n",
    "#llamo a la funcion\n",
    "fibonacci(20)"
   ]
  },
  {
   "cell_type": "code",
   "execution_count": 20,
   "metadata": {},
   "outputs": [
    {
     "name": "stdout",
     "output_type": "stream",
     "text": [
      "La cantidad de ocurrencias es:\n",
      "3\n"
     ]
    }
   ],
   "source": [
    "#Ejercicio 7\n",
    "# Escribir una función que reciba una lista y un valor, \n",
    "#y devuelva la cantidad de veces que aparece ese valor en la lista\n",
    "l=[1,4,2,3,5,1,4,2,3,6,1,7,1,3,5,1,1,5,3,2]\n",
    "v=2\n",
    "\n",
    "def ocurrencias(lista,valor):\n",
    "    # IMPLEMENTAR\n",
    "    cont=0\n",
    "    for i in lista:\n",
    "        if(valor==i):\n",
    "            cont +=1\n",
    "    return cont\n",
    "\n",
    "print(\"La cantidad de ocurrencias es:\")\n",
    "print(ocurrencias(l,v))\n",
    "\n",
    "#debe imprimir 3, la cantidad de veces que aparece el 2 en la lista\n",
    "\n",
    "#debe imprimir 3, la cantidad de veces que aparece el 2 en la lista"
   ]
  },
  {
   "cell_type": "code",
   "execution_count": 5,
   "metadata": {},
   "outputs": [
    {
     "name": "stdout",
     "output_type": "stream",
     "text": [
      "0103662805\n"
     ]
    },
    {
     "data": {
      "text/plain": [
       "'cedula correcta'"
      ]
     },
     "execution_count": 5,
     "metadata": {},
     "output_type": "execute_result"
    }
   ],
   "source": [
    "#Ejercicio 8\n",
    "\n",
    "# Crear un metodo de validacion de cedula Ecuatoriana, en caso de que la cedula no sea validad lanzar \n",
    "# una excepcion, ademas de controlar que solo pueda ingresar digitos numericos por teclado.\n",
    "\n",
    "\n",
    "#IMPLEMENTAR\n",
    "\n",
    "\n",
    "def validar_cedula(num):\n",
    "    if(num != \"\" and len(num) == 10):\n",
    "        ult_dig = num[9:]\n",
    "        num = num[:9]\n",
    "        l = []\n",
    "        lista_pro = [2, 1, 2, 1, 2, 1, 2, 1, 2]\n",
    "        for i, j in zip(num, lista_pro):\n",
    "           \n",
    "            mul = int(i) * j\n",
    "            \n",
    "            if(mul > 9):\n",
    "                mul = mul - 9\n",
    "                l.append(mul)\n",
    "            else:\n",
    "                l.append(mul)\n",
    "        \n",
    "        res = sum(l)\n",
    "     \n",
    "        mod = res % 10\n",
    "   \n",
    "        dig_ve = 10 - mod\n",
    "        if (dig_ve == int(ult_dig)) or (mod == 0):\n",
    "            return \"cedula correcta\"\n",
    "        else:\n",
    "            return \"Cedula incorrecta\"\n",
    "    else:\n",
    "        return \"INGRESE MINIMO 10 DIGITOS\"\n",
    "        \n",
    "validar_cedula(input())"
   ]
  },
  {
   "cell_type": "code",
   "execution_count": 23,
   "metadata": {},
   "outputs": [
    {
     "name": "stdout",
     "output_type": "stream",
     "text": [
      "['Juan', 1.55, 30, 'Racar', True, 'SYSTEM', 'MOV', False, 100, 6.7]\n",
      "['Juan', 1.55, 30, 'Racar', True, 'SYSTEM', 'MOV', False, 100, 6.7, 'UPS']\n",
      "*******************\n",
      "['GIT', 'IA-SE']\n",
      "['Juan', 1.55, 30, 'Racar', True, 'SYSTEM', 'MOV', False, 100, 6.7, 'UPS', 'GIT', 'IA-SE']\n"
     ]
    }
   ],
   "source": [
    "#Ejercicio 9 : Investigar las funciones que se pueden utilizar con listas, diccionarios y tuplas.\n",
    "\n",
    "lista = [\"Juan\", 1.55, 30, \"Racar\", True, \"SYSTEM\", \"MOV\", False, 100, 6.7]\n",
    "print(lista)\n",
    "\n",
    "#funcion append(para añadir un elemento)\n",
    "a = \"UPS\"\n",
    "lista.append(a)\n",
    "print(lista)\n",
    "\n",
    "#funcion extend(permite agregar elementos dentro de una lista\n",
    "#pero a diferencia de append al momento de agregar una lista, \n",
    "#cada elemento de esta lista se agrega como un elemento más dentro de la otra lista)\n",
    "sub_lista = [\"GIT\", \"IA-SE\"]\n",
    "lista.extend(sub_lista)\n",
    "print(\"*******************\")\n",
    "print(sub_lista)\n",
    "print(lista)"
   ]
  },
  {
   "cell_type": "code",
   "execution_count": null,
   "metadata": {},
   "outputs": [],
   "source": []
  },
  {
   "cell_type": "code",
   "execution_count": null,
   "metadata": {},
   "outputs": [],
   "source": []
  }
 ],
 "metadata": {
  "kernelspec": {
   "display_name": "Python 3",
   "language": "python",
   "name": "python3"
  },
  "language_info": {
   "codemirror_mode": {
    "name": "ipython",
    "version": 3
   },
   "file_extension": ".py",
   "mimetype": "text/x-python",
   "name": "python",
   "nbconvert_exporter": "python",
   "pygments_lexer": "ipython3",
   "version": "3.7.6"
  }
 },
 "nbformat": 4,
 "nbformat_minor": 4
}
