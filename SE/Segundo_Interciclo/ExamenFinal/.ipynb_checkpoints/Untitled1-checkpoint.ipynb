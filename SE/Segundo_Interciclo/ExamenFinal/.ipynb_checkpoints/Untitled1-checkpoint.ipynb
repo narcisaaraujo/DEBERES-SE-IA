{
 "cells": [
  {
   "cell_type": "markdown",
   "metadata": {},
   "source": [
    "# Proyecto"
   ]
  },
  {
   "cell_type": "markdown",
   "metadata": {},
   "source": [
    "## Alumna: Narcisa Araujo"
   ]
  },
  {
   "cell_type": "code",
   "execution_count": 3,
   "metadata": {},
   "outputs": [
    {
     "name": "stdout",
     "output_type": "stream",
     "text": [
      "Requirement already satisfied: Pygame in c:\\users\\narcisa\\anaconda3\\lib\\site-packages (2.0.1)\n",
      "Note: you may need to restart the kernel to use updated packages.\n"
     ]
    }
   ],
   "source": [
    "pip install Pygame"
   ]
  },
  {
   "cell_type": "code",
   "execution_count": 8,
   "metadata": {},
   "outputs": [
    {
     "name": "stdout",
     "output_type": "stream",
     "text": [
      "pygame 2.0.1 (SDL 2.0.14, Python 3.7.6)\n",
      "Hello from the pygame community. https://www.pygame.org/contribute.html\n"
     ]
    },
    {
     "ename": "FileNotFoundError",
     "evalue": "No such file or directory.",
     "output_type": "error",
     "traceback": [
      "\u001b[1;31m---------------------------------------------------------------------------\u001b[0m",
      "\u001b[1;31mFileNotFoundError\u001b[0m                         Traceback (most recent call last)",
      "\u001b[1;32m<ipython-input-8-82e0196f5b9e>\u001b[0m in \u001b[0;36m<module>\u001b[1;34m\u001b[0m\n\u001b[0;32m     12\u001b[0m \u001b[0mwhite\u001b[0m \u001b[1;33m=\u001b[0m \u001b[1;36m255\u001b[0m\u001b[1;33m,\u001b[0m \u001b[1;36m255\u001b[0m\u001b[1;33m,\u001b[0m \u001b[1;36m255\u001b[0m\u001b[1;33m\u001b[0m\u001b[1;33m\u001b[0m\u001b[0m\n\u001b[0;32m     13\u001b[0m \u001b[1;31m# Crea un objeto imagen pelota y obtengo su rectángulo\u001b[0m\u001b[1;33m\u001b[0m\u001b[1;33m\u001b[0m\u001b[1;33m\u001b[0m\u001b[0m\n\u001b[1;32m---> 14\u001b[1;33m \u001b[0mball\u001b[0m \u001b[1;33m=\u001b[0m \u001b[0mpygame\u001b[0m\u001b[1;33m.\u001b[0m\u001b[0mimage\u001b[0m\u001b[1;33m.\u001b[0m\u001b[0mload\u001b[0m\u001b[1;33m(\u001b[0m\u001b[1;34m\"ball.png\"\u001b[0m\u001b[1;33m)\u001b[0m\u001b[1;33m\u001b[0m\u001b[1;33m\u001b[0m\u001b[0m\n\u001b[0m\u001b[0;32m     15\u001b[0m \u001b[0mballrect\u001b[0m \u001b[1;33m=\u001b[0m \u001b[0mball\u001b[0m\u001b[1;33m.\u001b[0m\u001b[0mget_rect\u001b[0m\u001b[1;33m(\u001b[0m\u001b[1;33m)\u001b[0m\u001b[1;33m\u001b[0m\u001b[1;33m\u001b[0m\u001b[0m\n\u001b[0;32m     16\u001b[0m \u001b[1;31m# Crea un objeto imagen bate y obtengo su rectángulo\u001b[0m\u001b[1;33m\u001b[0m\u001b[1;33m\u001b[0m\u001b[1;33m\u001b[0m\u001b[0m\n",
      "\u001b[1;31mFileNotFoundError\u001b[0m: No such file or directory."
     ]
    }
   ],
   "source": [
    "import sys, pygame\n",
    "# Inicializamos pygame\n",
    "pygame.init()\n",
    "# Muestro una ventana de 800x600\n",
    "size = 800, 600\n",
    "screen = pygame.display.set_mode(size)\n",
    "# Cambio el título de la ventana\n",
    "pygame.display.set_caption(\"Juego BALL\")\n",
    "# Inicializamos variables\n",
    "width, height = 800, 600\n",
    "speed = [1, 1]\n",
    "white = 255, 255, 255\n",
    "# Crea un objeto imagen pelota y obtengo su rectángulo\n",
    "ball = pygame.image.load(\"ball.png\")\n",
    "ballrect = ball.get_rect()\n",
    "# Crea un objeto imagen bate y obtengo su rectángulo\n",
    "bate = pygame.image.load(\"bate.png\")\n",
    "baterect = bate.get_rect()\n",
    "# Pongo el bate en el centro de la pantalla\n",
    "baterect.move_ip(400, 260)\n",
    "# Comenzamos el bucle del juego\n",
    "run=True\n",
    "while run:\n",
    "# Espero un tiempo (milisegundos) para que la pelota no vaya muy rápida\n",
    "    pygame.time.delay(0)\n",
    "# Capturamos los eventos que se han producido\n",
    "    for event in pygame.event.get():\n",
    "#Si el evento es salir de la ventana, terminamos\n",
    "        if event.type == pygame.QUIT: run = False\n",
    "# Compruebo si se ha pulsado alguna tecla\n",
    "    keys = pygame.key.get_pressed()\n",
    "    if keys[pygame.K_UP]:\n",
    "        baterect=baterect.move(0, -1)\n",
    "    if keys[pygame.K_DOWN]:\n",
    "        baterect=baterect.move(0, 1)\n",
    "# Compruebo si hay colisión\n",
    "    if baterect.colliderect(ballrect):\n",
    "        speed[0] = - speed[0]\n",
    "# Muevo la pelota\n",
    "    ballrect = ballrect.move(speed)\n",
    "    if ballrect.left < 0 or ballrect.right > width:\n",
    "        speed[1] = -speed[1]\n",
    "#Pinto el fondo de blanco, dibujo la pelota y actualizo la pantalla\n",
    "    screen.fill(white)\n",
    "    screen.blit(ball, ballrect)\n",
    "    pygame.display.flip()\n",
    "# Salgo de pygame\n",
    "pygame.quit()"
   ]
  },
  {
   "cell_type": "code",
   "execution_count": null,
   "metadata": {},
   "outputs": [],
   "source": []
  },
  {
   "cell_type": "code",
   "execution_count": null,
   "metadata": {},
   "outputs": [],
   "source": []
  }
 ],
 "metadata": {
  "kernelspec": {
   "display_name": "Python 3",
   "language": "python",
   "name": "python3"
  },
  "language_info": {
   "codemirror_mode": {
    "name": "ipython",
    "version": 3
   },
   "file_extension": ".py",
   "mimetype": "text/x-python",
   "name": "python",
   "nbconvert_exporter": "python",
   "pygments_lexer": "ipython3",
   "version": "3.7.6"
  }
 },
 "nbformat": 4,
 "nbformat_minor": 4
}
