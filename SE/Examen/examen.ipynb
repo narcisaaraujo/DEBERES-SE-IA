{
 "cells": [
  {
   "cell_type": "markdown",
   "metadata": {},
   "source": [
    "# UNIVERSIDAD POLITECNICA SALESIANA"
   ]
  },
  {
   "cell_type": "markdown",
   "metadata": {},
   "source": [
    "### Narcisa Araujo"
   ]
  },
  {
   "cell_type": "markdown",
   "metadata": {},
   "source": [
    "### Enunciado:\n",
    "\n",
    "\n",
    "##### Se desea modelizar el conocimiento de un experto para el diagnostico de enfermedades de las plantas, basadas en las siguientes reglas.\n",
    "\n",
    "- Las plantas requieren diferentes tipos de nutrientes para desarrollarse adecuadamente.\n",
    "- Tres de los nutrientes de mayor importancia son el nitrógeno, el fósforo y el potasio.\n",
    "- Una deficiencia en alguno de estos nutrientes puede producir varios síntomas.\n"
   ]
  },
  {
   "cell_type": "code",
   "execution_count": 1,
   "metadata": {},
   "outputs": [
    {
     "name": "stdout",
     "output_type": "stream",
     "text": [
      "Requirement already satisfied: clipspy in c:\\users\\narcisa\\anaconda3\\lib\\site-packages (0.3.3)\n",
      "Requirement already satisfied: cffi>=1.0.0 in c:\\users\\narcisa\\anaconda3\\lib\\site-packages (from clipspy) (1.14.0)\n",
      "Requirement already satisfied: pycparser in c:\\users\\narcisa\\anaconda3\\lib\\site-packages (from cffi>=1.0.0->clipspy) (2.19)\n"
     ]
    }
   ],
   "source": [
    "!pip install clipspy\n",
    "from clips import Environment, Symbol\n",
    "\n",
    "environment = Environment()"
   ]
  },
  {
   "cell_type": "markdown",
   "metadata": {},
   "source": [
    "##### Escribir como reglas en CLIPS las siguientes reglas heurísticas que indican qué deficiencia se está produciendo:\n",
    "\n",
    "- Si la planta crece muy poco entonces puede tener una deficiencia de nitrógeno.\n",
    "- Si la planta tiene un color amarillo pálido entonces puede tener una deficiencia de nitrógeno.\n",
    "- Si las hojas tienen un color pardo rojizo entonces la planta puede tener una deficiencia de nitrógeno.\n",
    "- Si la raíz de la planta tiene poco crecimiento entonces puede tener una deficiencia de fósforo.\n",
    "- Una planta con tallo fusiforme puede tener una deficiencia de fósforo.\n",
    "- Una planta con color púrpura puede tener una deficiencia de fósforo.\n",
    "- Un retraso en la madurez de una planta puede deberse a una deficiencia de fósforo.\n",
    "- Si los bordes de las hojas aparecen chamuscados, la planta puede tener una deficiencia de potasio.\n",
    "- Una planta con los tallos debilitados puede tener una deficiencia de potasio.\n",
    "- Una planta con semillas o frutas marchitas puede tener una deficiencia de potasio.\n"
   ]
  },
  {
   "cell_type": "markdown",
   "metadata": {},
   "source": [
    "### REGLAS"
   ]
  },
  {
   "cell_type": "code",
   "execution_count": 2,
   "metadata": {},
   "outputs": [],
   "source": [
    "environment.load('examen.clp')"
   ]
  },
  {
   "cell_type": "code",
   "execution_count": 3,
   "metadata": {
    "scrolled": true
   },
   "outputs": [
    {
     "data": {
      "text/plain": [
       "0"
      ]
     },
     "execution_count": 3,
     "metadata": {},
     "output_type": "execute_result"
    }
   ],
   "source": [
    "environment.reset()\n",
    "environment.run()"
   ]
  },
  {
   "cell_type": "code",
   "execution_count": 4,
   "metadata": {},
   "outputs": [
    {
     "name": "stdout",
     "output_type": "stream",
     "text": [
      "(defrule MAIN::pregunta1\n",
      "   (respuesta1 si)\n",
      "   =>\n",
      "   (assert (planta-crece-poco)))\n",
      "\n",
      "(defrule MAIN::pregunta2\n",
      "   (respuesta2 si)\n",
      "   =>\n",
      "   (assert (planta-amarillo-palido)))\n",
      "\n",
      "(defrule MAIN::pregunta3\n",
      "   (respuesta3 si)\n",
      "   =>\n",
      "   (assert (hojas-pardo-rojizo)))\n",
      "\n",
      "(defrule MAIN::pregunta4\n",
      "   (respuesta4 si)\n",
      "   =>\n",
      "   (assert (raiz-crece-poco)))\n",
      "\n",
      "(defrule MAIN::pregunta5\n",
      "   (respuesta5 si)\n",
      "   =>\n",
      "   (assert (planta-tallo-fusiforme)))\n",
      "\n",
      "(defrule MAIN::pregunta6\n",
      "   (respuesta6 si)\n",
      "   =>\n",
      "   (assert (planta-color-purpura)))\n",
      "\n",
      "(defrule MAIN::pregunta7\n",
      "   (respuesta7 si)\n",
      "   =>\n",
      "   (assert (planta-retraso-madurez)))\n",
      "\n",
      "(defrule MAIN::pregunta8\n",
      "   (respuesta8 si)\n",
      "   =>\n",
      "   (assert (bordes-hojas-chamuscados)))\n",
      "\n",
      "(defrule MAIN::pregunta9\n",
      "   (respuesta9 si)\n",
      "   =>\n",
      "   (assert (planta-tallos-debilitados)))\n",
      "\n",
      "(defrule MAIN::pregunta10\n",
      "   (respuesta10 si)\n",
      "   =>\n",
      "   (assert (frutas-semillas-marchitas)))\n",
      "\n",
      "(defrule MAIN::nitrogeno-1\n",
      "   (or  (planta-crece-poco)\n",
      "        (planta-amarillo-palido)\n",
      "        (hojas-pardo-rojizo))\n",
      "   =>\n",
      "   (assert (deficiencia-nitrogeno))\n",
      "   (printout t \"La planta tiene una deficiencia de nitrógeno.\" crlf))\n",
      "\n",
      "(defrule MAIN::fosforo-1\n",
      "   (or  (raiz-crece-poco)\n",
      "        (planta-tallo-fusiforme)\n",
      "        (planta-color-purpura)\n",
      "        (planta-retraso-madurez))\n",
      "   =>\n",
      "   (assert (deficiencia-fosforo))\n",
      "   (printout t \"La planta tiene una deficiencia de fosforo.\" crlf))\n",
      "\n",
      "(defrule MAIN::potasio-1\n",
      "   (or  (bordes-hojas-chamuscados)\n",
      "        (planta-tallos-debilitados)\n",
      "        (frutas-semillas-marchitas))\n",
      "   =>\n",
      "   (assert (deficiencia-potasio))\n",
      "   (printout t \"La planta tiene una deficiencia de Potasio.\" crlf))\n",
      "\n"
     ]
    }
   ],
   "source": [
    "for rule in environment.rules():\n",
    "    print(rule)"
   ]
  },
  {
   "cell_type": "code",
   "execution_count": 5,
   "metadata": {},
   "outputs": [
    {
     "name": "stdout",
     "output_type": "stream",
     "text": [
      "(initial-fact)\n"
     ]
    }
   ],
   "source": [
    "for fact in environment.facts():\n",
    "    print(fact)"
   ]
  },
  {
   "cell_type": "markdown",
   "metadata": {},
   "source": [
    "- La entrada del programa debe ser una descripción de los síntomas de la planta. \n",
    "  La salida debe indicar de qué nutriente o nutrientes se ha producido una deficiencia\n",
    "  imprimiéndo en pantalla.\n"
   ]
  },
  {
   "cell_type": "code",
   "execution_count": 6,
   "metadata": {},
   "outputs": [
    {
     "name": "stdout",
     "output_type": "stream",
     "text": [
      "La planta crece muy poco? (si/no) \n",
      "no\n",
      "La planta tiene un color amarillo pálido. (si/no) \n",
      "no\n",
      "Las hojas tienen un color pardo rojizo? (si/no) \n",
      "no\n",
      "La raíz de la planta tiene poco crecimiento? (si/no) \n",
      "no\n",
      "Una planta con tallo fusiforme? (si/no) \n",
      "si\n",
      "Una planta con color púrpura? (si/no) \n",
      "si\n",
      "Un retraso en la madurez de una planta? (si/no) \n",
      "si\n",
      "Los bordes de las hojas aparecen chamuscados? (si/no) \n",
      "si\n",
      "Una planta con los tallos debilitados? (si/no) \n",
      "si\n",
      "Una planta con semillas o frutas marchitas? (si/no) \n",
      "si\n"
     ]
    },
    {
     "data": {
      "text/plain": [
       "ImpliedFact: f-10    (respuesta10 si)"
      ]
     },
     "execution_count": 6,
     "metadata": {},
     "output_type": "execute_result"
    }
   ],
   "source": [
    "respuesta1= input('La planta crece muy poco? (si/no) \\n')\n",
    "\n",
    "environment.assert_string('(respuesta1 '+respuesta1+')')\n",
    "\n",
    "respuesta2= input('La planta tiene un color amarillo pálido. (si/no) \\n')\n",
    "\n",
    "environment.assert_string('(respuesta2 '+respuesta2+')')\n",
    "\n",
    "respuesta3= input('Las hojas tienen un color pardo rojizo? (si/no) \\n')\n",
    "\n",
    "environment.assert_string('(respuesta3 '+respuesta3+')')\n",
    "\n",
    "respuesta4= input('La raíz de la planta tiene poco crecimiento? (si/no) \\n')\n",
    "\n",
    "environment.assert_string('(respuesta4 '+respuesta4+')')\n",
    "\n",
    "respuesta5= input('Una planta con tallo fusiforme? (si/no) \\n')\n",
    "\n",
    "environment.assert_string('(respuesta5 '+respuesta5+')')\n",
    "\n",
    "respuesta6= input('Una planta con color púrpura? (si/no) \\n')\n",
    "\n",
    "environment.assert_string('(respuesta6 '+respuesta6+')')\n",
    "\n",
    "respuesta7= input('Un retraso en la madurez de una planta? (si/no) \\n')\n",
    "\n",
    "environment.assert_string('(respuesta7 '+respuesta7+')')\n",
    "\n",
    "respuesta8= input('Los bordes de las hojas aparecen chamuscados? (si/no) \\n')\n",
    "\n",
    "environment.assert_string('(respuesta8 '+respuesta8+')')\n",
    "\n",
    "respuesta9= input('Una planta con los tallos debilitados? (si/no) \\n')\n",
    "\n",
    "environment.assert_string('(respuesta9 '+respuesta9+')')\n",
    "\n",
    "respuesta10= input('Una planta con semillas o frutas marchitas? (si/no) \\n')\n",
    "\n",
    "environment.assert_string('(respuesta10 '+respuesta10+')')"
   ]
  },
  {
   "cell_type": "code",
   "execution_count": 7,
   "metadata": {},
   "outputs": [
    {
     "name": "stdout",
     "output_type": "stream",
     "text": [
      "Resultado: La planta tiene deficiencia de potasio\n",
      "Resultado: La planta tiene deficiencia de fosforo\n"
     ]
    }
   ],
   "source": [
    "environment.run()\n",
    "for fact in environment.facts():\n",
    "    if fact.template.name == 'deficiencia-nitrogeno':\n",
    "        print('Resultado: '+'La planta tiene deficiencia de nitrogeno')\n",
    "    elif fact.template.name == 'deficiencia-fosforo':\n",
    "        print('Resultado: '+'La planta tiene deficiencia de fosforo')\n",
    "    elif fact.template.name == 'deficiencia-potasio':\n",
    "        print('Resultado: '+'La planta tiene deficiencia de potasio')\n",
    "    "
   ]
  },
  {
   "cell_type": "code",
   "execution_count": 8,
   "metadata": {},
   "outputs": [
    {
     "name": "stdout",
     "output_type": "stream",
     "text": [
      "(initial-fact)\n",
      "(respuesta1 no)\n",
      "(respuesta2 no)\n",
      "(respuesta3 no)\n",
      "(respuesta4 no)\n",
      "(respuesta5 si)\n",
      "(respuesta6 si)\n",
      "(respuesta7 si)\n",
      "(respuesta8 si)\n",
      "(respuesta9 si)\n",
      "f-10    (respuesta10 si)\n",
      "f-11    (frutas-semillas-marchitas)\n",
      "f-12    (deficiencia-potasio)\n",
      "f-13    (planta-tallos-debilitados)\n",
      "f-14    (bordes-hojas-chamuscados)\n",
      "f-15    (planta-retraso-madurez)\n",
      "f-16    (deficiencia-fosforo)\n",
      "f-17    (planta-color-purpura)\n",
      "f-18    (planta-tallo-fusiforme)\n"
     ]
    }
   ],
   "source": [
    "for fact in environment.facts():\n",
    "    print(fact)"
   ]
  },
  {
   "cell_type": "code",
   "execution_count": null,
   "metadata": {},
   "outputs": [],
   "source": []
  }
 ],
 "metadata": {
  "kernelspec": {
   "display_name": "Python 3",
   "language": "python",
   "name": "python3"
  },
  "language_info": {
   "codemirror_mode": {
    "name": "ipython",
    "version": 3
   },
   "file_extension": ".py",
   "mimetype": "text/x-python",
   "name": "python",
   "nbconvert_exporter": "python",
   "pygments_lexer": "ipython3",
   "version": "3.7.6"
  }
 },
 "nbformat": 4,
 "nbformat_minor": 4
}
