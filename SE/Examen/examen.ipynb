{
 "cells": [
  {
   "cell_type": "markdown",
   "metadata": {},
   "source": [
    "# UNIVERSIDAD POLITECNICA SALESIANA"
   ]
  },
  {
   "cell_type": "markdown",
   "metadata": {},
   "source": [
    "### Narcisa Araujo"
   ]
  },
  {
   "cell_type": "markdown",
   "metadata": {},
   "source": [
    "### Enunciado:\n",
    "\n",
    "\n",
    "##### Se desea modelizar el conocimiento de un experto para el diagnostico de enfermedades de las plantas, basadas en las siguientes reglas.\n",
    "\n",
    "- Las plantas requieren diferentes tipos de nutrientes para desarrollarse adecuadamente.\n",
    "- Tres de los nutrientes de mayor importancia son el nitrógeno, el fósforo y el potasio.\n",
    "- Una deficiencia en alguno de estos nutrientes puede producir varios síntomas.\n"
   ]
  },
  {
   "cell_type": "code",
   "execution_count": 1,
   "metadata": {},
   "outputs": [
    {
     "name": "stdout",
     "output_type": "stream",
     "text": [
      "Requirement already satisfied: clipspy in c:\\users\\narcisa\\anaconda3\\lib\\site-packages (0.3.3)\n",
      "Requirement already satisfied: cffi>=1.0.0 in c:\\users\\narcisa\\anaconda3\\lib\\site-packages (from clipspy) (1.14.0)\n",
      "Requirement already satisfied: pycparser in c:\\users\\narcisa\\anaconda3\\lib\\site-packages (from cffi>=1.0.0->clipspy) (2.19)\n"
     ]
    }
   ],
   "source": [
    "!pip install clipspy\n",
    "from clips import Environment, Symbol\n",
    "\n",
    "environment = Environment()"
   ]
  },
  {
   "cell_type": "markdown",
   "metadata": {},
   "source": [
    "##### Escribir como reglas en CLIPS las siguientes reglas heurísticas que indican qué deficiencia se está produciendo:\n",
    "\n",
    "- Si la planta crece muy poco entonces puede tener una deficiencia de nitrógeno.\n",
    "- Si la planta tiene un color amarillo pálido entonces puede tener una deficiencia de nitrógeno.\n",
    "- Si las hojas tienen un color pardo rojizo entonces la planta puede tener una deficiencia de nitrógeno.\n",
    "- Si la raíz de la planta tiene poco crecimiento entonces puede tener una deficiencia de fósforo.\n",
    "- Una planta con tallo fusiforme puede tener una deficiencia de fósforo.\n",
    "- Una planta con color púrpura puede tener una deficiencia de fósforo.\n",
    "- Un retraso en la madurez de una planta puede deberse a una deficiencia de fósforo.\n",
    "- Si los bordes de las hojas aparecen chamuscados, la planta puede tener una deficiencia de potasio.\n",
    "- Una planta con los tallos debilitados puede tener una deficiencia de potasio.\n",
    "- Una planta con semillas o frutas marchitas puede tener una deficiencia de potasio.\n"
   ]
  },
  {
   "cell_type": "markdown",
   "metadata": {},
   "source": [
    "### REGLAS"
   ]
  },
  {
   "cell_type": "code",
   "execution_count": 2,
   "metadata": {},
   "outputs": [],
   "source": [
    "environment.load('examen.clp')"
   ]
  },
  {
   "cell_type": "code",
   "execution_count": 3,
   "metadata": {
    "scrolled": true
   },
   "outputs": [
    {
     "data": {
      "text/plain": [
       "2"
      ]
     },
     "execution_count": 3,
     "metadata": {},
     "output_type": "execute_result"
    }
   ],
   "source": [
    "environment.reset()\n",
    "environment.run()"
   ]
  },
  {
   "cell_type": "code",
   "execution_count": 4,
   "metadata": {},
   "outputs": [
    {
     "name": "stdout",
     "output_type": "stream",
     "text": [
      "(defrule MAIN::nitrogeno-1\n",
      "   (planta-crece-poco)\n",
      "   =>\n",
      "   (assert (deficiencia-nitrogeno))\n",
      "   (printout t \"La planta tiene deficiencia de nitrogeno\" crlf))\n",
      "\n",
      "(defrule MAIN::nitrogeno-2\n",
      "   (planta-amarillo-palido)\n",
      "   =>\n",
      "   (assert (deficiencia-nitrogeno))\n",
      "   (printout t \"La planta tiene deficiencia de nitrogeno\" crlf))\n",
      "\n",
      "(defrule MAIN::nitrogeno-3\n",
      "   (hojas-pardo-rojizo)\n",
      "   =>\n",
      "   (assert (deficiencia-nitrogeno))\n",
      "   (printout t \"La planta tiene deficiencia de nitrogeno\" crlf))\n",
      "\n",
      "(defrule MAIN::fosforo-1\n",
      "   (raiz-poco-crecimiento)\n",
      "   =>\n",
      "   (assert (deficiencia-fosforo))\n",
      "   (printout t \"La planta tiene deficiencia de fosforo\" crlf))\n",
      "\n",
      "(defrule MAIN::fosforo-2\n",
      "   (planta-tallo-fusiforme)\n",
      "   =>\n",
      "   (assert (deficiencia-fosforo))\n",
      "   (printout t \"La planta tiene deficiencia de fosforo\" crlf))\n",
      "\n",
      "(defrule MAIN::fosforo-3\n",
      "   (planta-color-purpura)\n",
      "   =>\n",
      "   (assert (deficiencia-fosforo))\n",
      "   (printout t \"La planta tiene deficiencia de fosforo\" crlf))\n",
      "\n",
      "(defrule MAIN::fosforo-4\n",
      "   (retraso-madurez-planta)\n",
      "   =>\n",
      "   (assert (deficiencia-fosforo))\n",
      "   (printout t \"La planta tiene deficiencia de fosforo\" crlf))\n",
      "\n",
      "(defrule MAIN::Potasio-1\n",
      "   (bordes-hojas-chamuscadas)\n",
      "   =>\n",
      "   (assert (deficiencia-potasio))\n",
      "   (printout t \"La planta tiene deficiencia de potasio\" crlf))\n",
      "\n",
      "(defrule MAIN::Potasio-2\n",
      "   (planta-tallos-debilitados)\n",
      "   =>\n",
      "   (assert (deficiencia-potasio))\n",
      "   (printout t \"La planta tiene deficiencia de potasio\" crlf))\n",
      "\n",
      "(defrule MAIN::Potasio-3\n",
      "   (plantas-semillas-marchitas)\n",
      "   (plantas-frutas-marchitas)\n",
      "   =>\n",
      "   (assert (deficiencia-potasio))\n",
      "   (printout t \"La planta tiene deficiencia de potasio\" crlf))\n",
      "\n"
     ]
    }
   ],
   "source": [
    "for rule in environment.rules():\n",
    "    print(rule)"
   ]
  },
  {
   "cell_type": "code",
   "execution_count": 5,
   "metadata": {},
   "outputs": [
    {
     "name": "stdout",
     "output_type": "stream",
     "text": [
      "(initial-fact)\n",
      "(raiz-crece-poco)\n",
      "(planta-color-purpura)\n",
      "(planta-tallos-debilitados)\n",
      "(deficiencia-potasio)\n",
      "(deficiencia-fosforo)\n"
     ]
    }
   ],
   "source": [
    "for fact in environment.facts():\n",
    "    print(fact)"
   ]
  },
  {
   "cell_type": "markdown",
   "metadata": {},
   "source": [
    "- La entrada del programa debe ser una descripción de los síntomas de la planta. \n",
    "  La salida debe indicar de qué nutriente o nutrientes se ha producido una deficiencia\n",
    "  imprimiéndo en pantalla.\n"
   ]
  },
  {
   "cell_type": "code",
   "execution_count": 6,
   "metadata": {},
   "outputs": [
    {
     "name": "stdout",
     "output_type": "stream",
     "text": [
      "Ingrese el sintoma de la planta: planta-crece-poco\n",
      "Ingrese el segundo sintoma de la planta: planta-amarillo-palido\n",
      "Ingrese el  tercer sintoma de la planta: hojas-pardo-rojizo\n"
     ]
    }
   ],
   "source": [
    "sintoma = input(\"Ingrese el sintoma de la planta: \")\n",
    "\n",
    "fact_string_planta = '(sintoma ' + sintoma  + ')'\n",
    "\n",
    "fact_planta = environment.assert_string(fact_string_planta)\n",
    "\n",
    "\n",
    "sintoma1 = input(\"Ingrese el segundo sintoma de la planta: \")\n",
    "\n",
    "fact_string_planta1 = '(sintoma1 ' + sintoma1  + ')'\n",
    "fact_planta1 = environment.assert_string(fact_string_planta1)\n",
    "\n",
    "\n",
    "sintoma2 = input(\"Ingrese el  tercer sintoma de la planta: \")\n",
    "\n",
    "fact_string_planta2 = '(sintoma2 ' + sintoma2  + ')'\n",
    "fact_planta2 = environment.assert_string(fact_string_planta2)"
   ]
  },
  {
   "cell_type": "code",
   "execution_count": 11,
   "metadata": {},
   "outputs": [
    {
     "name": "stdout",
     "output_type": "stream",
     "text": [
      "(initial-fact)\n",
      "(raiz-crece-poco)\n",
      "(planta-color-purpura)\n",
      "(planta-tallos-debilitados)\n",
      "(deficiencia-potasio)\n",
      "(deficiencia-fosforo)\n",
      "(sintoma planta-crece-poco)\n",
      "(sintoma1 planta-amarillo-palido)\n",
      "(sintoma2 hojas-pardo-rojizo)\n"
     ]
    }
   ],
   "source": [
    "environment.run()\n",
    "for fact in environment.facts():\n",
    "    \n",
    "    print(fact)"
   ]
  },
  {
   "cell_type": "code",
   "execution_count": null,
   "metadata": {},
   "outputs": [],
   "source": []
  },
  {
   "cell_type": "code",
   "execution_count": null,
   "metadata": {},
   "outputs": [],
   "source": []
  }
 ],
 "metadata": {
  "kernelspec": {
   "display_name": "Python 3",
   "language": "python",
   "name": "python3"
  },
  "language_info": {
   "codemirror_mode": {
    "name": "ipython",
    "version": 3
   },
   "file_extension": ".py",
   "mimetype": "text/x-python",
   "name": "python",
   "nbconvert_exporter": "python",
   "pygments_lexer": "ipython3",
   "version": "3.7.6"
  }
 },
 "nbformat": 4,
 "nbformat_minor": 4
}
